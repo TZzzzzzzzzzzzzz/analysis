{
 "cells": [
  {
   "cell_type": "code",
   "execution_count": 1,
   "metadata": {},
   "outputs": [
    {
     "name": "stdout",
     "output_type": "stream",
     "text": [
      "Group: A\n",
      "  Category  Value\n",
      "0        A     10\n",
      "2        A     10\n",
      "5        A     10\n",
      "7        A     10\n",
      "Group: B\n",
      "  Category  Value\n",
      "1        B     20\n",
      "4        B     20\n",
      "Group: C\n",
      "  Category  Value\n",
      "3        C     30\n",
      "6        C     30\n"
     ]
    }
   ],
   "source": [
    "import pandas as pd\n",
    "\n",
    "# 创建一个示例DataFrame\n",
    "df = pd.DataFrame({\n",
    "    'Category': ['A', 'B', 'A', 'C', 'B', 'A', 'C', 'A'],\n",
    "    'Value': [10, 20, 10, 30, 20, 10, 30, 10]\n",
    "})\n",
    "\n",
    "# 使用groupby进行分组\n",
    "grouped = df.groupby('Category')\n",
    "\n",
    "# 遍历groupby对象\n",
    "for name, group in grouped:\n",
    "    print(f\"Group: {name}\")\n",
    "    print(group)"
   ]
  }
 ],
 "metadata": {
  "kernelspec": {
   "display_name": "Python 3",
   "language": "python",
   "name": "python3"
  },
  "language_info": {
   "codemirror_mode": {
    "name": "ipython",
    "version": 3
   },
   "file_extension": ".py",
   "mimetype": "text/x-python",
   "name": "python",
   "nbconvert_exporter": "python",
   "pygments_lexer": "ipython3",
   "version": "3.12.2"
  }
 },
 "nbformat": 4,
 "nbformat_minor": 2
}
